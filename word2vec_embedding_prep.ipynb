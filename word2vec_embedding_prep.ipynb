{
 "cells": [
  {
   "cell_type": "code",
   "execution_count": null,
   "metadata": {
    "id": "9lRKWwRfEV5l"
   },
   "outputs": [],
   "source": [
    "import pandas as pd\n",
    "import numpy as np"
   ]
  },
  {
   "cell_type": "code",
   "execution_count": null,
   "metadata": {
    "id": "aJswsEEIE5wv"
   },
   "outputs": [],
   "source": [
    "train = pd.read_csv('Pre-processed Dataset/train.csv', encoding='latin-1', index_col=0)\n",
    "test = pd.read_csv('Pre-processed Dataset/test.csv', encoding='latin-1', index_col=0)"
   ]
  },
  {
   "cell_type": "code",
   "execution_count": null,
   "metadata": {
    "id": "-2z1Zte2JnTc"
   },
   "outputs": [],
   "source": [
    "train['text'] = train['text'].values.astype(str)\n",
    "test['text'] = test['text'].values.astype(str)"
   ]
  },
  {
   "cell_type": "code",
   "execution_count": null,
   "metadata": {
    "colab": {
     "base_uri": "https://localhost:8080/"
    },
    "id": "zSf6huw_z0WR",
    "outputId": "20c9fcba-8bee-4234-f757-9f9e1d275a69"
   },
   "outputs": [
    {
     "data": {
      "text/plain": [
       "pandas.core.series.Series"
      ]
     },
     "execution_count": 12,
     "metadata": {
      "tags": []
     },
     "output_type": "execute_result"
    }
   ],
   "source": [
    "text = train['text']\n",
    "type(text)"
   ]
  },
  {
   "cell_type": "code",
   "execution_count": null,
   "metadata": {
    "id": "8NTbr9Cz0Zgl"
   },
   "outputs": [],
   "source": [
    "text = text.append(test['text'], ignore_index=True)"
   ]
  },
  {
   "cell_type": "code",
   "execution_count": null,
   "metadata": {
    "id": "5-A5DxZM0YOd"
   },
   "outputs": [],
   "source": [
    "from gensim.utils import simple_preprocess\n",
    "# Tokenize the text to get 'tokenized_text'\n",
    "tokenized_text = [simple_preprocess(tweet, deacc=True) for tweet in text] "
   ]
  },
  {
   "cell_type": "code",
   "execution_count": null,
   "metadata": {
    "id": "IQ_V5ZYRpj4r"
   },
   "outputs": [],
   "source": [
    "OUTPUT_FOLDER = 'Word2Vec Embedding/'"
   ]
  },
  {
   "cell_type": "code",
   "execution_count": null,
   "metadata": {
    "id": "a2Zi3YeEnZ7W"
   },
   "outputs": [],
   "source": [
    "from gensim.models import Word2Vec"
   ]
  },
  {
   "cell_type": "code",
   "execution_count": null,
   "metadata": {
    "id": "sYInWPyBoDx2"
   },
   "outputs": [],
   "source": [
    "# Skip-gram model (sg = 1)\n",
    "# Embedding Dimensions\n",
    "size = 50\n",
    "# Context Window\n",
    "window = 5\n",
    "# Min count of words\n",
    "min_count = 1\n",
    "# Skip-Gram\n",
    "sg = 1"
   ]
  },
  {
   "cell_type": "code",
   "execution_count": null,
   "metadata": {
    "id": "KoHtt_ktoDaR"
   },
   "outputs": [],
   "source": [
    "word2vec_model_file = OUTPUT_FOLDER + 'word2vec_sg_' + str(size) + '.model'"
   ]
  },
  {
   "cell_type": "code",
   "execution_count": null,
   "metadata": {
    "id": "laUwnBh2pbAv"
   },
   "outputs": [],
   "source": [
    "# Train the Word2Vec Model (sg)\n",
    "w2v_model = Word2Vec(tokenized_text, min_count = min_count, size = size, window = window, sg = sg)"
   ]
  },
  {
   "cell_type": "code",
   "execution_count": null,
   "metadata": {
    "id": "KNwEXOFeqwES"
   },
   "outputs": [],
   "source": [
    "w2v_model.save(word2vec_model_file)"
   ]
  },
  {
   "cell_type": "code",
   "execution_count": null,
   "metadata": {
    "id": "9gNkZBp90BqF"
   },
   "outputs": [],
   "source": [
    "# CBOW model (sg = 0)\n",
    "# Embedding Dimensions\n",
    "size = 50\n",
    "# Context Window\n",
    "window = 5\n",
    "# Min count of words\n",
    "min_count = 1\n",
    "# CBOW\n",
    "sg = 0"
   ]
  },
  {
   "cell_type": "code",
   "execution_count": null,
   "metadata": {
    "id": "6hA0DSAA2zWG"
   },
   "outputs": [],
   "source": [
    "word2vec_model_file = OUTPUT_FOLDER + 'word2vec_cbow_' + str(size) + '.model'"
   ]
  },
  {
   "cell_type": "code",
   "execution_count": null,
   "metadata": {
    "id": "mHkyy9xg24vO"
   },
   "outputs": [],
   "source": [
    "# Train the Word2Vec Model (sg)\n",
    "w2v_model = Word2Vec(tokenized_text, min_count = min_count, size = size, window = window, sg = sg)"
   ]
  },
  {
   "cell_type": "code",
   "execution_count": null,
   "metadata": {
    "id": "gcN1jSkh28_p"
   },
   "outputs": [],
   "source": [
    "w2v_model.save(word2vec_model_file)"
   ]
  },
  {
   "cell_type": "code",
   "execution_count": null,
   "metadata": {
    "id": "HzSU5TCz3Dts"
   },
   "outputs": [],
   "source": []
  }
 ],
 "metadata": {
  "colab": {
   "collapsed_sections": [],
   "name": "word2vec_model_prep",
   "provenance": []
  },
  "kernelspec": {
   "display_name": "Python 3",
   "language": "python",
   "name": "python3"
  },
  "language_info": {
   "codemirror_mode": {
    "name": "ipython",
    "version": 3
   },
   "file_extension": ".py",
   "mimetype": "text/x-python",
   "name": "python",
   "nbconvert_exporter": "python",
   "pygments_lexer": "ipython3",
   "version": "3.7.1"
  }
 },
 "nbformat": 4,
 "nbformat_minor": 1
}
